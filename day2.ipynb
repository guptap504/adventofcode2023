{
 "cells": [
  {
   "cell_type": "code",
   "execution_count": 3,
   "id": "7fbb67ce-7633-4b2d-aa75-7077d7522697",
   "metadata": {},
   "outputs": [],
   "source": [
    "with open('input/day2.txt') as f:\n",
    "    data = f.read()"
   ]
  },
  {
   "cell_type": "code",
   "execution_count": 5,
   "id": "75bc270d-d286-45cb-b54e-cacf0ccf950b",
   "metadata": {},
   "outputs": [],
   "source": [
    "data = data.split(\"\\n\")"
   ]
  },
  {
   "cell_type": "code",
   "execution_count": 10,
   "id": "b08f8769-de0c-4859-99fc-1e657c6d5a46",
   "metadata": {},
   "outputs": [],
   "source": [
    "game, parts = data[0].split(\": \")"
   ]
  },
  {
   "cell_type": "code",
   "execution_count": 17,
   "id": "0396b7cb-7d59-4d28-9ca7-66226e85a045",
   "metadata": {},
   "outputs": [
    {
     "data": {
      "text/plain": [
       "['4 red', '5 blue', '4 green']"
      ]
     },
     "execution_count": 17,
     "metadata": {},
     "output_type": "execute_result"
    }
   ],
   "source": [
    "parts.split(\"; \")[0].split(\", \")"
   ]
  },
  {
   "cell_type": "code",
   "execution_count": 13,
   "id": "9d5f2dc7-7f3b-43c8-861c-84f10e2f8826",
   "metadata": {},
   "outputs": [],
   "source": [
    "accepted = {\"red\": 12, \"green\": 13, \"blue\": 14}"
   ]
  },
  {
   "cell_type": "code",
   "execution_count": 18,
   "id": "86c30d30-1818-4ff8-a891-b66847ccaf3b",
   "metadata": {},
   "outputs": [],
   "source": [
    "possible_ids = []\n",
    "for d in data:\n",
    "    game, parts = d.split(\": \")\n",
    "    game_id = int(game.split(\" \")[-1])\n",
    "    for p in parts.split(\"; \"):\n",
    "        valid = True\n",
    "        for p1 in p.split(\", \"):\n",
    "            count, colour = p1.split(\" \")\n",
    "            if accepted[colour] < int(count):\n",
    "                valid = False\n",
    "                break\n",
    "        if not valid:\n",
    "            break\n",
    "    else:\n",
    "        possible_ids.append(game_id)"
   ]
  },
  {
   "cell_type": "code",
   "execution_count": 21,
   "id": "0ec6fcf1-d4eb-450e-aa49-6a20cebb64e3",
   "metadata": {},
   "outputs": [
    {
     "data": {
      "text/plain": [
       "2061"
      ]
     },
     "execution_count": 21,
     "metadata": {},
     "output_type": "execute_result"
    }
   ],
   "source": [
    "sum(possible_ids)"
   ]
  },
  {
   "cell_type": "code",
   "execution_count": 25,
   "id": "e3c2605b-f95a-4ed0-89bc-173052be8744",
   "metadata": {},
   "outputs": [],
   "source": [
    "power_sum = 0\n",
    "for d in data:\n",
    "    _, parts = d.split(\": \")\n",
    "    min_vals = {\"red\": 0, \"green\": 0, \"blue\": 0}\n",
    "    for p in parts.split(\"; \"):\n",
    "        for p1 in p.split(\", \"):\n",
    "            count, colour = p1.split(\" \")\n",
    "            c = int(count)\n",
    "            if min_vals[colour] < c:\n",
    "                min_vals[colour] = c\n",
    "    s = min_vals[\"red\"] * min_vals[\"green\"] * min_vals[\"blue\"]\n",
    "    power_sum += s"
   ]
  },
  {
   "cell_type": "code",
   "execution_count": 26,
   "id": "b979fc6c-54e4-40e9-93b5-802005f5806a",
   "metadata": {},
   "outputs": [
    {
     "data": {
      "text/plain": [
       "72596"
      ]
     },
     "execution_count": 26,
     "metadata": {},
     "output_type": "execute_result"
    }
   ],
   "source": [
    "power_sum"
   ]
  },
  {
   "cell_type": "code",
   "execution_count": null,
   "id": "ca5add64-3725-4fba-8577-86d06acbc927",
   "metadata": {},
   "outputs": [],
   "source": []
  }
 ],
 "metadata": {
  "kernelspec": {
   "display_name": "Python 3 (ipykernel)",
   "language": "python",
   "name": "python3"
  },
  "language_info": {
   "codemirror_mode": {
    "name": "ipython",
    "version": 3
   },
   "file_extension": ".py",
   "mimetype": "text/x-python",
   "name": "python",
   "nbconvert_exporter": "python",
   "pygments_lexer": "ipython3",
   "version": "3.12.0"
  }
 },
 "nbformat": 4,
 "nbformat_minor": 5
}
