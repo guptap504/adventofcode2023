{
 "cells": [
  {
   "cell_type": "code",
   "execution_count": 80,
   "id": "e851d9f1-f618-47af-a807-79fda373bdd7",
   "metadata": {},
   "outputs": [],
   "source": [
    "with open(\"input/day3.txt\") as f:\n",
    "    data = f.read()"
   ]
  },
  {
   "cell_type": "code",
   "execution_count": 81,
   "id": "3ec14812-e6d3-4334-928c-7faa66792539",
   "metadata": {},
   "outputs": [],
   "source": [
    "data = data.split(\"\\n\")"
   ]
  },
  {
   "cell_type": "code",
   "execution_count": 52,
   "id": "90e4d1d0-61ce-48d7-8e14-dc330c3c5a33",
   "metadata": {},
   "outputs": [],
   "source": [
    "def is_symbol(data, i, j):\n",
    "    if (i < 0) or (i >= len(data)) or (j < 0) or (j >= len(data[0])):\n",
    "        return False\n",
    "    return (not data[i][j].isnumeric()) and (data[i][j] != '.')"
   ]
  },
  {
   "cell_type": "code",
   "execution_count": 53,
   "id": "b80248dc-34fb-4ded-960b-03f71f23f819",
   "metadata": {},
   "outputs": [],
   "source": [
    "s = 0\n",
    "for i in range(len(data)):\n",
    "    num = \"\"\n",
    "    has_symbol = False\n",
    "    for j in range(len(data[i])):\n",
    "        v = data[i][j]\n",
    "        if v.isnumeric():\n",
    "            num += v\n",
    "            if (is_symbol(data, i-1, j) or \n",
    "                is_symbol(data, i+1, j) or \n",
    "                is_symbol(data, i, j-1) or \n",
    "                is_symbol(data, i, j+1) or \n",
    "                is_symbol(data, i-1, j-1) or\n",
    "                is_symbol(data, i-1, j+1) or \n",
    "                is_symbol(data, i+1, j-1) or\n",
    "                is_symbol(data, i+1, j+1)\n",
    "               ):\n",
    "                has_symbol = True\n",
    "        else:\n",
    "            if num and has_symbol:\n",
    "                s += int(num)\n",
    "            num = \"\"\n",
    "            has_symbol = False\n",
    "    if num and has_symbol:\n",
    "        s += int(num)\n",
    "    num = \"\"\n",
    "    has_symbol = False"
   ]
  },
  {
   "cell_type": "code",
   "execution_count": 54,
   "id": "23cd2f8f-77f2-45ea-a378-d566ff3dcdcf",
   "metadata": {},
   "outputs": [
    {
     "data": {
      "text/plain": [
       "543867"
      ]
     },
     "execution_count": 54,
     "metadata": {},
     "output_type": "execute_result"
    }
   ],
   "source": [
    "s"
   ]
  },
  {
   "cell_type": "code",
   "execution_count": 60,
   "id": "0e642300-0175-4a9f-bc0f-9e24b21802c9",
   "metadata": {},
   "outputs": [],
   "source": [
    "d = \"\"\"467..114..\n",
    "...*......\n",
    "..35..633.\n",
    "......#...\n",
    "617*......\n",
    ".....+.58.\n",
    "..592.....\n",
    "......755.\n",
    "...$.*....\n",
    ".664.598..\"\"\""
   ]
  },
  {
   "cell_type": "code",
   "execution_count": 61,
   "id": "c414ba55-29c0-4551-b354-949f2c4ae4b0",
   "metadata": {},
   "outputs": [],
   "source": [
    "data = d.split('\\n')"
   ]
  },
  {
   "cell_type": "code",
   "execution_count": 62,
   "id": "a7613567-9ee9-4e33-8970-76238581dfac",
   "metadata": {},
   "outputs": [],
   "source": [
    "from collections import defaultdict"
   ]
  },
  {
   "cell_type": "code",
   "execution_count": 68,
   "id": "2da16526-6d56-46e3-976e-ac9031ee5980",
   "metadata": {},
   "outputs": [],
   "source": [
    "def is_gear_part(data, i, j):\n",
    "    if (i < 0) or (i >= len(data)) or (j < 0) or (j >= len(data[0])):\n",
    "        return []\n",
    "    elif data[i][j] != \"*\":\n",
    "        return []\n",
    "    return [(i, j)]"
   ]
  },
  {
   "cell_type": "code",
   "execution_count": 82,
   "id": "d27bf4a8-00ea-447c-9568-c26a127ee34f",
   "metadata": {
    "scrolled": true
   },
   "outputs": [],
   "source": [
    "gears = defaultdict(list)\n",
    "for i in range(len(data)):\n",
    "    num = \"\"\n",
    "    has_gear = False\n",
    "    poss_gear_parts = []\n",
    "    for j in range(len(data[i])):\n",
    "        v = data[i][j]\n",
    "        # print(num, poss_gear_parts)\n",
    "        if v.isnumeric():\n",
    "            num += v\n",
    "            poss_gear_parts += (is_gear_part(data, i-1, j) + \n",
    "                               is_gear_part(data, i+1, j) + \n",
    "                               is_gear_part(data, i, j-1) + \n",
    "                               is_gear_part(data, i, j+1) + \n",
    "                               is_gear_part(data, i-1, j-1) +\n",
    "                               is_gear_part(data, i-1, j+1) +\n",
    "                               is_gear_part(data, i+1, j-1) +\n",
    "                               is_gear_part(data, i+1, j+1))\n",
    "            if poss_gear_parts:\n",
    "                has_gear = True\n",
    "        else:\n",
    "            if num and has_gear:\n",
    "                for x in list(set(poss_gear_parts)):\n",
    "                    gears[x].append(int(num))\n",
    "            num = \"\"\n",
    "            has_gear = False\n",
    "            poss_gear_parts = []\n",
    "    if num and has_gear:\n",
    "        for x in list(set(poss_gear_parts)):\n",
    "            gears[x].append(int(num))\n",
    "    num = \"\"\n",
    "    has_gear = False\n",
    "    poss_gear_parts = []"
   ]
  },
  {
   "cell_type": "code",
   "execution_count": 83,
   "id": "2fde98ad-0a00-4b5b-94b1-6f75413213a0",
   "metadata": {},
   "outputs": [],
   "source": [
    "s = 0\n",
    "for v in gears.values():\n",
    "    if len(v) == 2:\n",
    "        gear_ratio = v[0] * v[1]\n",
    "        s += gear_ratio"
   ]
  },
  {
   "cell_type": "code",
   "execution_count": 84,
   "id": "51279b73-3927-4702-ba1d-cd20fa62e26e",
   "metadata": {},
   "outputs": [
    {
     "data": {
      "text/plain": [
       "79613331"
      ]
     },
     "execution_count": 84,
     "metadata": {},
     "output_type": "execute_result"
    }
   ],
   "source": [
    "s"
   ]
  },
  {
   "cell_type": "code",
   "execution_count": null,
   "id": "2105f6c6-c9e8-45d5-b25f-15a44c76e2bb",
   "metadata": {},
   "outputs": [],
   "source": []
  }
 ],
 "metadata": {
  "kernelspec": {
   "display_name": "Python 3 (ipykernel)",
   "language": "python",
   "name": "python3"
  },
  "language_info": {
   "codemirror_mode": {
    "name": "ipython",
    "version": 3
   },
   "file_extension": ".py",
   "mimetype": "text/x-python",
   "name": "python",
   "nbconvert_exporter": "python",
   "pygments_lexer": "ipython3",
   "version": "3.12.0"
  }
 },
 "nbformat": 4,
 "nbformat_minor": 5
}
