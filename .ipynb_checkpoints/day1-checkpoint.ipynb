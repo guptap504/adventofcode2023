{
 "cells": [
  {
   "cell_type": "code",
   "execution_count": 1,
   "id": "e5b231b1-a95f-45ac-81b0-0893a09c831b",
   "metadata": {},
   "outputs": [],
   "source": [
    "with open(\"input/day1.txt\") as f:\n",
    "    data = f.read()"
   ]
  },
  {
   "cell_type": "code",
   "execution_count": 2,
   "id": "8762e296-b624-4b18-b3d6-b54aa8b2658d",
   "metadata": {},
   "outputs": [],
   "source": [
    "data = data.split(\"\\n\")"
   ]
  },
  {
   "cell_type": "code",
   "execution_count": 14,
   "id": "ee1fbf5a-a640-41ca-adc1-3a12b91dd5b6",
   "metadata": {},
   "outputs": [],
   "source": [
    "def digits_from_string(l: str) -> list[int]:\n",
    "    return [c for c in l if c.isnumeric()]"
   ]
  },
  {
   "cell_type": "code",
   "execution_count": 15,
   "id": "32ce4f4a-e3b0-474b-bbf9-d04117bb47cd",
   "metadata": {},
   "outputs": [],
   "source": [
    "digits = [digits_from_string(l) for l in data]"
   ]
  },
  {
   "cell_type": "code",
   "execution_count": 16,
   "id": "9ca048e9-9c08-4123-952d-919ab787cb56",
   "metadata": {},
   "outputs": [
    {
     "data": {
      "text/plain": [
       "53334"
      ]
     },
     "execution_count": 16,
     "metadata": {},
     "output_type": "execute_result"
    }
   ],
   "source": [
    "sum(int(d[0] + d[-1]) for d in digits if d)"
   ]
  },
  {
   "cell_type": "code",
   "execution_count": 18,
   "id": "e2a5e69f-3701-4f18-8f3d-1664affc159d",
   "metadata": {},
   "outputs": [],
   "source": [
    "valid_digits = [\"one\", \"two\", \"three\", \"four\", \"five\", \"six\", \"seven\", \"eight\", \"nine\"]"
   ]
  },
  {
   "cell_type": "code",
   "execution_count": 21,
   "id": "e0953df7-8c65-4597-8cdd-4b40378f02bd",
   "metadata": {},
   "outputs": [],
   "source": [
    "def digits_from_string_new(l: str) -> list[int]:\n",
    "    digits = []\n",
    "    for i, c in enumerate(l):\n",
    "        if c.isnumeric():\n",
    "            digits.append(c)\n",
    "        for ind, val in enumerate(valid_digits, 1):\n",
    "            if val == l[i:i+len(val)]:\n",
    "                digits.append(str(ind))\n",
    "    return digits"
   ]
  },
  {
   "cell_type": "code",
   "execution_count": 24,
   "id": "e8941a22-4bf5-4790-b2bf-d25254abad34",
   "metadata": {},
   "outputs": [],
   "source": [
    "digits = [digits_from_string_new(l) for l in data]"
   ]
  },
  {
   "cell_type": "code",
   "execution_count": 25,
   "id": "0f815d5b-6e3f-492a-b58b-e9fecf94fbed",
   "metadata": {},
   "outputs": [
    {
     "data": {
      "text/plain": [
       "52834"
      ]
     },
     "execution_count": 25,
     "metadata": {},
     "output_type": "execute_result"
    }
   ],
   "source": [
    "sum(int(d[0] + d[-1]) for d in digits if d)"
   ]
  }
 ],
 "metadata": {
  "kernelspec": {
   "display_name": "Python 3 (ipykernel)",
   "language": "python",
   "name": "python3"
  },
  "language_info": {
   "codemirror_mode": {
    "name": "ipython",
    "version": 3
   },
   "file_extension": ".py",
   "mimetype": "text/x-python",
   "name": "python",
   "nbconvert_exporter": "python",
   "pygments_lexer": "ipython3",
   "version": "3.11.5"
  }
 },
 "nbformat": 4,
 "nbformat_minor": 5
}
